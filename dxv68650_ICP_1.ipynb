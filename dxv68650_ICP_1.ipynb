{
  "nbformat": 4,
  "nbformat_minor": 0,
  "metadata": {
    "colab": {
      "provenance": []
    },
    "kernelspec": {
      "name": "python3",
      "display_name": "Python 3"
    },
    "language_info": {
      "name": "python"
    }
  },
  "cells": [
    {
      "cell_type": "markdown",
      "source": [
        "Question 1 The following is a list of 10 students ages: ages = [19, 22, 19, 24, 20, 25, 26, 24, 25, 24] • Sort the list and find the min and max age • Add the min age and the max age again to the list • Find the median age (one middle item or two middle items divided by two) • Find the average age (sum of all items divided by their number) • Find the range of the ages (max minus min)"
      ],
      "metadata": {
        "id": "E4IQiCABjYtT"
      }
    },
    {
      "cell_type": "code",
      "source": [
        "ages = [19, 22, 19, 24, 20, 25, 26, 24, 25, 24]\n",
        "sorted_ages = sorted(ages)\n",
        "min_age = sorted_ages[0]\n",
        "max_age = sorted_ages[-1]\n",
        "print(\"Sorted ages:\", sorted_ages)\n",
        "print(\"Min age:\", min_age)\n",
        "print(\"Max age:\", max_age)\n",
        "\n",
        "# Add the min age and the max age again to the list\n",
        "ages.extend([min_age, max_age])\n",
        "print(\"Ages after adding min and max age:\", ages)\n",
        "\n",
        "# Find the median age\n",
        "n = len(ages)\n",
        "middle = n // 2\n",
        "if n % 2 == 0:\n",
        "    median_age = (sorted_ages[middle - 1] + sorted_ages[middle]) / 2\n",
        "else:\n",
        "    median_age = sorted_ages[middle]\n",
        "print(\"Median age:\", median_age)\n",
        "\n",
        "# Find the average age\n",
        "average_age = sum(ages) / len(ages)\n",
        "print(\"Average age:\", average_age)\n",
        "\n",
        "# Find the range of the ages\n",
        "age_range = max_age - min_age\n",
        "print(\"Age range:\", age_range)\n"
      ],
      "metadata": {
        "colab": {
          "base_uri": "https://localhost:8080/"
        },
        "id": "I0RyMtFVc2dZ",
        "outputId": "d69a3b94-8955-4f2e-cc4f-0a7a1e7d7bc8"
      },
      "execution_count": null,
      "outputs": [
        {
          "output_type": "stream",
          "name": "stdout",
          "text": [
            "Sorted ages: [19, 19, 20, 22, 24, 24, 24, 25, 25, 26]\n",
            "Min age: 19\n",
            "Max age: 26\n",
            "Ages after adding min and max age: [19, 22, 19, 24, 20, 25, 26, 24, 25, 24, 19, 26]\n",
            "Median age: 24.0\n",
            "Average age: 22.75\n",
            "Age range: 7\n"
          ]
        }
      ]
    },
    {
      "cell_type": "markdown",
      "source": [
        "Question 2\n",
        "• Create an empty dictionary called dog\n",
        "• Add name, color, breed, legs, age to the dog dictionary\n",
        "• Create a student dictionary and add first_name, last_name, gender, age, marital status,\n",
        "skills, country, city and address as keys for the dictionary\n",
        "• Get the length of the student dictionary\n",
        "• Get the value of skills and check the data type, it should be a list\n",
        "• Modify the skills values by adding one or two skills\n",
        "• Get the dictionary keys as a list\n",
        "• Get the dictionary values as a list"
      ],
      "metadata": {
        "id": "_VxSXfRNs9j8"
      }
    },
    {
      "cell_type": "code",
      "source": [
        "# Create an empty dictionary called dog\n",
        "dog = {}\n",
        "\n",
        "# Add name, color, breed, legs, age to the dog dictionary\n",
        "dog['name'] = 'max'\n",
        "dog['color'] = 'Brown'\n",
        "dog['breed'] = 'Labrador'\n",
        "dog['legs'] = 4\n",
        "dog['age'] = 2\n",
        "\n",
        "# Create a student dictionary and add the required keys\n",
        "student = {\n",
        "    'first_name': 'jacky',\n",
        "    'last_name': 'jyo',\n",
        "    'gender': 'Male',\n",
        "    'age': 24,\n",
        "    'marital_status': 'Single',\n",
        "    'skills': ['Python', 'Data Analysis','java'],\n",
        "    'country': 'USA',\n",
        "    'city': 'New York',\n",
        "    'address': '1000 downstreet '\n",
        "}\n",
        "\n",
        "# Get the length of the student dictionary\n",
        "student_length = len(student)\n",
        "\n",
        "# Get the value of skills and check the data type\n",
        "skills = student['skills']\n",
        "skills_type = type(skills)\n",
        "\n",
        "# Modify the skills values by adding one or two skills\n",
        "student['skills'].extend(['Machine Learning', 'Deep Learning'])\n",
        "\n",
        "# Get the dictionary keys as a list\n",
        "student_keys = list(student.keys())\n",
        "\n",
        "# Get the dictionary values as a list\n",
        "student_values = list(student.values())\n",
        "\n",
        "# Print the results\n",
        "print(\"Dog dictionary:\", dog)\n",
        "print(\"Student dictionary:\", student)\n",
        "print(\"Length of student dictionary:\", student_length)\n",
        "print(\"Skills value:\", skills)\n",
        "print(\"Skills data type:\", skills_type)\n",
        "print(\"Modified skills:\", student['skills'])\n",
        "print(\"Student dictionary keys:\", student_keys)\n",
        "print(\"Student dictionary values:\", student_values)"
      ],
      "metadata": {
        "colab": {
          "base_uri": "https://localhost:8080/"
        },
        "id": "ttF7pigLshvk",
        "outputId": "ba141cd0-eca7-444b-ea3a-ab1dfd728f47"
      },
      "execution_count": null,
      "outputs": [
        {
          "output_type": "stream",
          "name": "stdout",
          "text": [
            "Dog dictionary: {'name': 'max', 'color': 'Brown', 'breed': 'Labrador', 'legs': 4, 'age': 2}\n",
            "Student dictionary: {'first_name': 'jacky', 'last_name': 'jyo', 'gender': 'Male', 'age': 24, 'marital_status': 'Single', 'skills': ['Python', 'Data Analysis', 'java', 'Machine Learning', 'Deep Learning'], 'country': 'USA', 'city': 'New York', 'address': '1000 downstreet '}\n",
            "Length of student dictionary: 9\n",
            "Skills value: ['Python', 'Data Analysis', 'java', 'Machine Learning', 'Deep Learning']\n",
            "Skills data type: <class 'list'>\n",
            "Modified skills: ['Python', 'Data Analysis', 'java', 'Machine Learning', 'Deep Learning']\n",
            "Student dictionary keys: ['first_name', 'last_name', 'gender', 'age', 'marital_status', 'skills', 'country', 'city', 'address']\n",
            "Student dictionary values: ['jacky', 'jyo', 'Male', 24, 'Single', ['Python', 'Data Analysis', 'java', 'Machine Learning', 'Deep Learning'], 'USA', 'New York', '1000 downstreet ']\n"
          ]
        }
      ]
    },
    {
      "cell_type": "markdown",
      "source": [
        "Question 3\n",
        "• Create a tuple containing names of your sisters and your brothers (imaginary siblings are\n",
        "fine)\n",
        "• Join brothers and sisters tuples and assign it to siblings\n",
        "• How many siblings do you have?\n",
        "• Modify the siblings tuple and add the name of your father and mother and assign it to\n",
        "family_members\n"
      ],
      "metadata": {
        "id": "aikDbQpSmriE"
      }
    },
    {
      "cell_type": "code",
      "source": [
        "# Create a tuple containing names of your sisters and your brothers\n",
        "sisters = (\"Alexa\", \"kitty\")\n",
        "brothers = (\"John\", \"William\", \"david\")\n",
        "\n",
        "# Join brothers and sisters tuples and assign it to siblings\n",
        "siblings = sisters + brothers\n",
        "print(\"siblings:\",siblings)\n",
        "\n",
        "# How many siblings do you have?\n",
        "num_siblings = len(siblings)\n",
        "print(\"Number of siblings:\",num_siblings)\n",
        "\n",
        "# Modify the siblings tuple and add the name of your father and mother and assign it to family_members\n",
        "father = \"John\"\n",
        "mother = \"Mary\"\n",
        "family_members = (father, mother) + siblings\n",
        "\n",
        "\n",
        "print(\"Family members:\", family_members)\n"
      ],
      "metadata": {
        "colab": {
          "base_uri": "https://localhost:8080/"
        },
        "id": "tqlZXpfEk9-G",
        "outputId": "861a38c9-6767-4086-ab42-2d53b6790f3d"
      },
      "execution_count": null,
      "outputs": [
        {
          "output_type": "stream",
          "name": "stdout",
          "text": [
            "siblings: ('Alexa', 'kitty', 'John', 'William', 'david')\n",
            "Number of siblings: 5\n",
            "Family members: ('John', 'Mary', 'Alexa', 'kitty', 'John', 'William', 'david')\n"
          ]
        }
      ]
    },
    {
      "cell_type": "markdown",
      "source": [
        "Question 4\n",
        "it_companies = {'Facebook', 'Google', 'Microsoft', 'Apple', 'IBM', 'Oracle', 'Amazon'}\n",
        "A = {19, 22, 24, 20, 25, 26}\n",
        "B = {19, 22, 20, 25, 26, 24, 28, 27}\n",
        "age = [22, 19, 24, 25, 26, 24, 25, 24]\n",
        "• Find the length of the set it_companies\n",
        "• Add 'Twitter' to it_companies\n",
        "• Insert multiple IT companies at once to the set it_companies\n",
        "• Remove one of the companies from the set it_companies\n",
        "• What is the difference between remove and discard\n",
        "• Join A and B\n",
        "• Find A intersection B\n",
        "• Is A subset of B\n",
        "• Are A and B disjoint sets\n",
        "• Join A with B and B with A\n",
        "• What is the symmetric difference between A and B\n",
        "• Delete the sets completely\n",
        "• Convert the ages to a set and compare the length of the list and the set."
      ],
      "metadata": {
        "id": "hQUNC064oNHd"
      }
    },
    {
      "cell_type": "code",
      "source": [
        "# Given data\n",
        "it_companies = {'Facebook', 'Google', 'Microsoft', 'Apple', 'IBM', 'Oracle', 'Amazon'}\n",
        "A = {19, 22, 24, 20, 25, 26}\n",
        "B = {19, 22, 20, 25, 26, 24, 28, 27}\n",
        "age = [22, 19, 24, 25, 26, 24, 25, 24]\n",
        "\n",
        "# 1. Find the length of the set it_companies\n",
        "it_companies_length = len(it_companies)\n",
        "print(\"Length of it_companies:\", it_companies_length)\n",
        "\n",
        "# 2. Add 'Twitter' to it_companies\n",
        "it_companies.add('Twitter')\n",
        "print(\"it_companies after adding Twitter:\", it_companies)\n",
        "\n",
        "# 3. Insert multiple IT companies at once to the set it_companies\n",
        "it_companies.update(['LinkedIn', 'Snapchat', 'TikTok'])\n",
        "print(\"it_companies after adding multiple companies:\", it_companies)\n",
        "\n",
        "# 4. Remove one of the companies from the set it_companies\n",
        "it_companies.remove('Oracle')  # or use discard('Oracle')\n",
        "print(\"it_companies after removing Oracle:\", it_companies)\n",
        "\n",
        "# 5. The difference between remove and discard\n",
        "# remove() will raise a KeyError if the element does not exist in the set.\n",
        "# discard() will not raise an error if the element does not exist.\n",
        "\n",
        "# 6. Join A and B\n",
        "A_union_B = A.union(B)\n",
        "print(\"A union B:\", A_union_B)\n",
        "\n",
        "# 7. Find A intersection B\n",
        "A_intersection_B = A.intersection(B)\n",
        "print(\"A intersection B:\", A_intersection_B)\n",
        "\n",
        "# 8. Is A subset of B\n",
        "A_subset_B = A.issubset(B)\n",
        "print(\"Is A subset of B:\", A_subset_B)\n",
        "\n",
        "# 9. Are A and B disjoint sets\n",
        "A_disjoint_B = A.isdisjoint(B)\n",
        "print(\"Are A and B disjoint sets:\", A_disjoint_B)\n",
        "\n",
        "# 10. Join A with B and B with A (which is the same as A union B)\n",
        "A_union_B_again = A | B\n",
        "B_union_A = B | A\n",
        "print(\"A union B again:\", A_union_B_again)\n",
        "print(\"B union A:\", B_union_A)\n",
        "\n",
        "# 11. What is the symmetric difference between A and B\n",
        "A_symmetric_difference_B = A.symmetric_difference(B)\n",
        "print(\"Symmetric difference between A and B:\", A_symmetric_difference_B)\n",
        "\n",
        "# 12. Delete the sets completely\n",
        "del A\n",
        "del B\n",
        "\n",
        "# 13. Convert the ages list to a set and compare the length of the list and the set\n",
        "age_set = set(age)\n",
        "age_list_length = len(age)\n",
        "age_set_length = len(age_set)\n",
        "print(\"Length of age list:\", age_list_length)\n",
        "print(\"Length of age set:\", age_set_length)\n"
      ],
      "metadata": {
        "colab": {
          "base_uri": "https://localhost:8080/"
        },
        "id": "ZDItqaJGnZpf",
        "outputId": "417933f2-718e-4d8f-e5ad-88736c34ea28"
      },
      "execution_count": null,
      "outputs": [
        {
          "output_type": "stream",
          "name": "stdout",
          "text": [
            "Length of it_companies: 7\n",
            "it_companies after adding Twitter: {'Google', 'Apple', 'Oracle', 'Microsoft', 'Facebook', 'Twitter', 'IBM', 'Amazon'}\n",
            "it_companies after adding multiple companies: {'Apple', 'Google', 'LinkedIn', 'Snapchat', 'Twitter', 'Amazon', 'Oracle', 'Facebook', 'TikTok', 'Microsoft', 'IBM'}\n",
            "it_companies after removing Oracle: {'Apple', 'Google', 'LinkedIn', 'Snapchat', 'Twitter', 'Amazon', 'Facebook', 'TikTok', 'Microsoft', 'IBM'}\n",
            "A union B: {19, 20, 22, 24, 25, 26, 27, 28}\n",
            "A intersection B: {19, 20, 22, 24, 25, 26}\n",
            "Is A subset of B: True\n",
            "Are A and B disjoint sets: False\n",
            "A union B again: {19, 20, 22, 24, 25, 26, 27, 28}\n",
            "B union A: {19, 20, 22, 24, 25, 26, 27, 28}\n",
            "Symmetric difference between A and B: {27, 28}\n",
            "Length of age list: 8\n",
            "Length of age set: 5\n"
          ]
        }
      ]
    },
    {
      "cell_type": "markdown",
      "source": [
        "Question 5\n",
        "The radius of a circle is 30 meters.\n",
        "• Calculate the area of a circle and assign the value to a variable name of _area_of_circle_\n",
        "• Calculate the circumference of a circle and assign the value to a variable name of\n",
        "_circum_of_circle_\n",
        "• Take radius as user input and calculate the area."
      ],
      "metadata": {
        "id": "oWedP3YOoi6Z"
      }
    },
    {
      "cell_type": "code",
      "source": [
        "import math\n",
        "\n",
        "# Given radius\n",
        "radius = 30\n",
        "\n",
        "# 1. Calculate the area of a circle and assign the value to a variable name of _area_of_circle_\n",
        "_area_of_circle_ = math.pi * radius ** 2\n",
        "print(\"Area of the circle with radius 30 meters:\", _area_of_circle_)\n",
        "\n",
        "# 2. Calculate the circumference of a circle and assign the value to a variable name of _circum_of_circle_\n",
        "_circum_of_circle_ = 2 * math.pi * radius\n",
        "print(\"Circumference of the circle with radius 30 meters:\", _circum_of_circle_)\n",
        "\n",
        "# 3. Take radius as user input and calculate the area\n",
        "user_radius = float(input(\"Enter the radius of the circle: \"))\n",
        "user_area_of_circle = math.pi * user_radius ** 2\n",
        "print(f\"Area of the circle with radius {user_radius} meters:\", user_area_of_circle)\n"
      ],
      "metadata": {
        "colab": {
          "base_uri": "https://localhost:8080/"
        },
        "id": "4iRv9MfdoS_t",
        "outputId": "d716b12d-5ec3-4d37-ccec-e8b7b8b3e7e2"
      },
      "execution_count": null,
      "outputs": [
        {
          "output_type": "stream",
          "name": "stdout",
          "text": [
            "Area of the circle with radius 30 meters: 2827.4333882308138\n",
            "Circumference of the circle with radius 30 meters: 188.49555921538757\n",
            "Enter the radius of the circle: 6\n",
            "Area of the circle with radius 6.0 meters: 113.09733552923255\n"
          ]
        }
      ]
    },
    {
      "cell_type": "markdown",
      "source": [
        "Question 6\n",
        "“I am a teacher and I love to inspire and teach people”\n",
        "• How many unique words have been used in the sentence? Use the split methods and set\n",
        "to get the unique words."
      ],
      "metadata": {
        "id": "mG4N3lHCpAPU"
      }
    },
    {
      "cell_type": "code",
      "source": [
        "# Given sentence\n",
        "sentence = \"I am a teacher and I love to inspire and teach people\"\n",
        "\n",
        "# Split the sentence into words\n",
        "words = sentence.split()\n",
        "\n",
        "# Convert the list of words to a set to get unique words\n",
        "unique_words = set(words)\n",
        "\n",
        "# Find the number of unique words\n",
        "num_unique_words = len(unique_words)\n",
        "\n",
        "print(\"Number of unique words:\", num_unique_words)\n"
      ],
      "metadata": {
        "colab": {
          "base_uri": "https://localhost:8080/"
        },
        "id": "A0xl2rekomrs",
        "outputId": "2ea3b8c1-f7e5-4f3d-f6d3-52ce86d1ed2e"
      },
      "execution_count": null,
      "outputs": [
        {
          "output_type": "stream",
          "name": "stdout",
          "text": [
            "Number of unique words: 10\n"
          ]
        }
      ]
    },
    {
      "cell_type": "markdown",
      "source": [
        "Question 7\n",
        "Use a tab escape sequence to get the following lines.\n",
        "Name Age Country City\n",
        "Asabeneh 250 Finland Helsinki"
      ],
      "metadata": {
        "id": "eHxm2jEapzt4"
      }
    },
    {
      "cell_type": "code",
      "source": [
        "# Printing the lines with tab escape sequences\n",
        "print(\"Name\\t\\tAge\\tCountry\\tCity\")\n",
        "print(\"Asabeneh\\t250\\tFinland\\tHelsinki\")\n"
      ],
      "metadata": {
        "colab": {
          "base_uri": "https://localhost:8080/"
        },
        "id": "FZyzoOzppkrl",
        "outputId": "5091af5d-814b-4b28-d6a8-56d8fa216c59"
      },
      "execution_count": null,
      "outputs": [
        {
          "output_type": "stream",
          "name": "stdout",
          "text": [
            "Name\t\tAge\tCountry\tCity\n",
            "Asabeneh\t250\tFinland\tHelsinki\n"
          ]
        }
      ]
    },
    {
      "cell_type": "markdown",
      "source": [
        "Question 8\n",
        "Use the string formatting method to display the following:\n",
        "radius = 10\n",
        "area = 3.14 * radius ** 2\n",
        "“The area of a circle with radius 10 is 314 meters square.”"
      ],
      "metadata": {
        "id": "B8pRJCwjp-5J"
      }
    },
    {
      "cell_type": "code",
      "source": [
        "# Given radius\n",
        "radius = 10\n",
        "\n",
        "# Calculate the area of the circle\n",
        "area = 3.14 * radius ** 2\n",
        "\n",
        "# Use f-string to format the message\n",
        "message = f\"The area of a circle with radius {radius} is {area} meters square.\"\n",
        "print(message)\n"
      ],
      "metadata": {
        "colab": {
          "base_uri": "https://localhost:8080/"
        },
        "id": "oVjT2F3Cp_aB",
        "outputId": "aaa1ac1a-2332-4e45-ae41-e6a60deb1e90"
      },
      "execution_count": null,
      "outputs": [
        {
          "output_type": "stream",
          "name": "stdout",
          "text": [
            "The area of a circle with radius 10 is 314.0 meters square.\n"
          ]
        }
      ]
    },
    {
      "cell_type": "markdown",
      "source": [
        "Question 9\n",
        "Write a program, which reads weights (lbs.) of N students into a list and convert these weights to\n",
        "kilograms in a separate list using Loop. N: No of students (Read input from user)\n",
        "Ex: L1: [150, 155, 145, 148]\n",
        "Output: [68.03, 70.3, 65.77, 67.13]"
      ],
      "metadata": {
        "id": "92kYUT3LqWp0"
      }
    },
    {
      "cell_type": "code",
      "source": [
        "# Conversion factor from pounds to kilograms\n",
        "lb_to_kg = 0.453592\n",
        "\n",
        "# Read the number of students\n",
        "N = int(input(\"Enter the number of students: \"))\n",
        "\n",
        "# Initialize the list to store weights in pounds\n",
        "weights_lbs = []\n",
        "\n",
        "# Read weights in pounds from the user\n",
        "for i in range(N):\n",
        "    weight = float(input(f\"Enter the weight of student {i + 1} in pounds: \"))\n",
        "    weights_lbs.append(weight)\n",
        "\n",
        "# Initialize the list to store weights in kilograms\n",
        "weights_kg = []\n",
        "\n",
        "# Convert weights to kilograms and store in the new list\n",
        "for weight in weights_lbs:\n",
        "    weights_kg.append(round(weight * lb_to_kg, 2))\n",
        "\n",
        "# Print the original weights in pounds\n",
        "print(\"Weights in pounds:\", weights_lbs)\n",
        "\n",
        "# Print the converted weights in kilograms\n",
        "print(\"Weights in kilograms:\", weights_kg)\n",
        "12\n"
      ],
      "metadata": {
        "colab": {
          "base_uri": "https://localhost:8080/"
        },
        "id": "rV0y9SNiqqEz",
        "outputId": "5ea4f458-d787-4369-cb91-b24b228e635e"
      },
      "execution_count": null,
      "outputs": [
        {
          "output_type": "stream",
          "name": "stdout",
          "text": [
            "Enter the number of students: 4\n",
            "Enter the weight of student 1 in pounds: 8\n",
            "Enter the weight of student 2 in pounds: 9\n",
            "Enter the weight of student 3 in pounds: 10\n",
            "Enter the weight of student 4 in pounds: 11\n",
            "Weights in pounds: [8.0, 9.0, 10.0, 11.0]\n",
            "Weights in kilograms: [3.63, 4.08, 4.54, 4.99]\n"
          ]
        }
      ]
    }
  ]
}